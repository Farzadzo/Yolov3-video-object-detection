{
 "cells": [
  {
   "cell_type": "code",
   "execution_count": 3,
   "id": "43246f9e",
   "metadata": {},
   "outputs": [],
   "source": [
    "from moviepy.editor import ImageSequenceClip\n",
    "import os\n",
    "\n",
    "# Set the directory containing the image files\n",
    "image_dir = \"images/\"\n"
   ]
  },
  {
   "cell_type": "code",
   "execution_count": 2,
   "id": "ab651f59",
   "metadata": {
    "collapsed": true
   },
   "outputs": [
    {
     "name": "stdout",
     "output_type": "stream",
     "text": [
      "Moviepy - Building video images/output.mp4.\n",
      "Moviepy - Writing video images/output.mp4\n",
      "\n"
     ]
    },
    {
     "name": "stderr",
     "output_type": "stream",
     "text": [
      "                                                                                \r"
     ]
    },
    {
     "name": "stdout",
     "output_type": "stream",
     "text": [
      "Moviepy - Done !\n",
      "Moviepy - video ready images/output.mp4\n",
      "Video created successfully!\n"
     ]
    }
   ],
   "source": [
    "\n",
    "# Get a list of all the image files in the directory\n",
    "image_files = [os.path.join(image_dir, f) for f in os.listdir(image_dir) if f.endswith(\".jpg\")]\n",
    "\n",
    "# Sort the image files by filename (ascending order)\n",
    "image_files.sort()\n",
    "\n",
    "# Create an ImageSequenceClip from the image files\n",
    "clip = ImageSequenceClip(image_files, fps=24)\n",
    "\n",
    "# Set the output video file path and name\n",
    "output_path = os.path.join(image_dir, \"output.mp4\")\n",
    "\n",
    "# Write the clip to a video file\n",
    "clip.write_videofile(output_path, codec='libx264', fps=24)\n",
    "\n",
    "print(\"Video created successfully!\")\n"
   ]
  },
  {
   "cell_type": "code",
   "execution_count": null,
   "id": "680c5386",
   "metadata": {},
   "outputs": [],
   "source": [
    "\n"
   ]
  },
  {
   "cell_type": "code",
   "execution_count": null,
   "id": "90fba370",
   "metadata": {},
   "outputs": [],
   "source": []
  }
 ],
 "metadata": {
  "kernelspec": {
   "display_name": "Python 3 (ipykernel)",
   "language": "python",
   "name": "python3"
  },
  "language_info": {
   "codemirror_mode": {
    "name": "ipython",
    "version": 3
   },
   "file_extension": ".py",
   "mimetype": "text/x-python",
   "name": "python",
   "nbconvert_exporter": "python",
   "pygments_lexer": "ipython3",
   "version": "3.9.13"
  }
 },
 "nbformat": 4,
 "nbformat_minor": 5
}
